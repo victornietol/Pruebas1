{
 "cells": [
  {
   "cell_type": "code",
   "execution_count": 10,
   "id": "e2c0b77f",
   "metadata": {},
   "outputs": [],
   "source": [
    "#Creación de ventanas\n",
    "\n",
    "from tkinter import *\n",
    "\n",
    "raiz=Tk() #Base de la ventana\n",
    "\n",
    "raiz.title(\"Ventana de pruebas\")  #Titulo de la ventana\n",
    "raiz.resizable(True,False)        #Redimensionar ventana, valores True(1) y False(0)\n",
    "raiz.iconbitmap(\"D:\\\\CodigoPracticas\\\\Imagenes\\\\ejemplo.ico\")  #Colocar imagen en la esquina\n",
    "raiz. geometry(\"650x350\")      #Asignar el tamaño de la ventana\n",
    "raiz.config(bg=\"red\")   #Asiganr color del fondo\n",
    "\n",
    "raiz.mainloop()"
   ]
  },
  {
   "cell_type": "code",
   "execution_count": null,
   "id": "77c637ef",
   "metadata": {},
   "outputs": [],
   "source": []
  }
 ],
 "metadata": {
  "kernelspec": {
   "display_name": "Python 3",
   "language": "python",
   "name": "python3"
  },
  "language_info": {
   "codemirror_mode": {
    "name": "ipython",
    "version": 3
   },
   "file_extension": ".py",
   "mimetype": "text/x-python",
   "name": "python",
   "nbconvert_exporter": "python",
   "pygments_lexer": "ipython3",
   "version": "3.8.8"
  }
 },
 "nbformat": 4,
 "nbformat_minor": 5
}
